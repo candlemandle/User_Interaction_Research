{
 "cells": [
  {
   "metadata": {
    "ExecuteTime": {
     "end_time": "2025-05-07T16:32:47.669094Z",
     "start_time": "2025-05-07T16:32:22.857819Z"
    }
   },
   "cell_type": "code",
   "source": [
    "from src.data_loader import load_retail_data\n",
    "\n",
    "# fulla da\n",
    "df = load_retail_data()\n",
    "\n",
    "# we'll take a sample of 100k rows\n",
    "df_sample = df.sample(n=100000, random_state=42)\n"
   ],
   "id": "1941dee511c5c7ca",
   "outputs": [],
   "execution_count": 16
  },
  {
   "metadata": {
    "ExecuteTime": {
     "end_time": "2025-05-07T16:32:47.696679Z",
     "start_time": "2025-05-07T16:32:47.680685Z"
    }
   },
   "cell_type": "code",
   "source": [
    "print(\"Full data shape:\", df.shape)\n",
    "print(\"Sample data shape:\", df_sample.shape)\n",
    "\n",
    "df_sample.info()    # type, memory, etc.\n",
    "df_sample.head()    # first 5 rows\n"
   ],
   "id": "ef7e6edb49296f2f",
   "outputs": [
    {
     "name": "stdout",
     "output_type": "stream",
     "text": [
      "Full data shape: (541909, 8)\n",
      "Sample data shape: (100000, 8)\n",
      "<class 'pandas.core.frame.DataFrame'>\n",
      "Index: 100000 entries, 209268 to 290024\n",
      "Data columns (total 8 columns):\n",
      " #   Column       Non-Null Count   Dtype         \n",
      "---  ------       --------------   -----         \n",
      " 0   InvoiceNo    100000 non-null  object        \n",
      " 1   StockCode    100000 non-null  object        \n",
      " 2   Description  99723 non-null   object        \n",
      " 3   Quantity     100000 non-null  int64         \n",
      " 4   InvoiceDate  100000 non-null  datetime64[ns]\n",
      " 5   UnitPrice    100000 non-null  float64       \n",
      " 6   CustomerID   74983 non-null   float64       \n",
      " 7   Country      100000 non-null  object        \n",
      "dtypes: datetime64[ns](1), float64(2), int64(1), object(4)\n",
      "memory usage: 6.9+ MB\n"
     ]
    },
    {
     "data": {
      "text/plain": [
       "       InvoiceNo StockCode                       Description  Quantity  \\\n",
       "209268    555200     71459    HANGING JAM JAR T-LIGHT HOLDER        24   \n",
       "207108    554974     21128                GOLD FISHING GNOME         4   \n",
       "167085    550972     21086       SET/6 RED SPOTTY PAPER CUPS         4   \n",
       "471836    576652     22812  PACK 3 BOXES CHRISTMAS PANETTONE         3   \n",
       "115865    546157     22180                    RETROSPOT LAMP         2   \n",
       "\n",
       "               InvoiceDate  UnitPrice  CustomerID         Country  \n",
       "209268 2011-06-01 12:05:00       0.85     17315.0  United Kingdom  \n",
       "207108 2011-05-27 17:14:00       6.95     14031.0  United Kingdom  \n",
       "167085 2011-04-21 17:05:00       0.65     14031.0  United Kingdom  \n",
       "471836 2011-11-16 10:39:00       1.95     17198.0  United Kingdom  \n",
       "115865 2011-03-10 08:40:00       9.95     13502.0  United Kingdom  "
      ],
      "text/html": [
       "<div>\n",
       "<style scoped>\n",
       "    .dataframe tbody tr th:only-of-type {\n",
       "        vertical-align: middle;\n",
       "    }\n",
       "\n",
       "    .dataframe tbody tr th {\n",
       "        vertical-align: top;\n",
       "    }\n",
       "\n",
       "    .dataframe thead th {\n",
       "        text-align: right;\n",
       "    }\n",
       "</style>\n",
       "<table border=\"1\" class=\"dataframe\">\n",
       "  <thead>\n",
       "    <tr style=\"text-align: right;\">\n",
       "      <th></th>\n",
       "      <th>InvoiceNo</th>\n",
       "      <th>StockCode</th>\n",
       "      <th>Description</th>\n",
       "      <th>Quantity</th>\n",
       "      <th>InvoiceDate</th>\n",
       "      <th>UnitPrice</th>\n",
       "      <th>CustomerID</th>\n",
       "      <th>Country</th>\n",
       "    </tr>\n",
       "  </thead>\n",
       "  <tbody>\n",
       "    <tr>\n",
       "      <th>209268</th>\n",
       "      <td>555200</td>\n",
       "      <td>71459</td>\n",
       "      <td>HANGING JAM JAR T-LIGHT HOLDER</td>\n",
       "      <td>24</td>\n",
       "      <td>2011-06-01 12:05:00</td>\n",
       "      <td>0.85</td>\n",
       "      <td>17315.0</td>\n",
       "      <td>United Kingdom</td>\n",
       "    </tr>\n",
       "    <tr>\n",
       "      <th>207108</th>\n",
       "      <td>554974</td>\n",
       "      <td>21128</td>\n",
       "      <td>GOLD FISHING GNOME</td>\n",
       "      <td>4</td>\n",
       "      <td>2011-05-27 17:14:00</td>\n",
       "      <td>6.95</td>\n",
       "      <td>14031.0</td>\n",
       "      <td>United Kingdom</td>\n",
       "    </tr>\n",
       "    <tr>\n",
       "      <th>167085</th>\n",
       "      <td>550972</td>\n",
       "      <td>21086</td>\n",
       "      <td>SET/6 RED SPOTTY PAPER CUPS</td>\n",
       "      <td>4</td>\n",
       "      <td>2011-04-21 17:05:00</td>\n",
       "      <td>0.65</td>\n",
       "      <td>14031.0</td>\n",
       "      <td>United Kingdom</td>\n",
       "    </tr>\n",
       "    <tr>\n",
       "      <th>471836</th>\n",
       "      <td>576652</td>\n",
       "      <td>22812</td>\n",
       "      <td>PACK 3 BOXES CHRISTMAS PANETTONE</td>\n",
       "      <td>3</td>\n",
       "      <td>2011-11-16 10:39:00</td>\n",
       "      <td>1.95</td>\n",
       "      <td>17198.0</td>\n",
       "      <td>United Kingdom</td>\n",
       "    </tr>\n",
       "    <tr>\n",
       "      <th>115865</th>\n",
       "      <td>546157</td>\n",
       "      <td>22180</td>\n",
       "      <td>RETROSPOT LAMP</td>\n",
       "      <td>2</td>\n",
       "      <td>2011-03-10 08:40:00</td>\n",
       "      <td>9.95</td>\n",
       "      <td>13502.0</td>\n",
       "      <td>United Kingdom</td>\n",
       "    </tr>\n",
       "  </tbody>\n",
       "</table>\n",
       "</div>"
      ]
     },
     "execution_count": 17,
     "metadata": {},
     "output_type": "execute_result"
    }
   ],
   "execution_count": 17
  },
  {
   "metadata": {
    "ExecuteTime": {
     "end_time": "2025-05-07T16:32:47.855408Z",
     "start_time": "2025-05-07T16:32:47.818946Z"
    }
   },
   "cell_type": "code",
   "source": [
    "# Cell 3: summary stats for purchases vs returns\n",
    "purchases = df[df['Quantity'] > 0]['Quantity']\n",
    "returns   = df[df['Quantity'] < 0]['Quantity'].abs()\n",
    "\n",
    "print(\"=== Purchases Quantity ===\")\n",
    "print(purchases.describe())\n",
    "\n",
    "print(\"\\n=== Returns Quantity ===\")\n",
    "print(returns.describe())\n"
   ],
   "id": "db215cf98f020abf",
   "outputs": [
    {
     "name": "stdout",
     "output_type": "stream",
     "text": [
      "=== Purchases Quantity ===\n",
      "count    531285.000000\n",
      "mean         10.655262\n",
      "std         156.830323\n",
      "min           1.000000\n",
      "25%           1.000000\n",
      "50%           3.000000\n",
      "75%          10.000000\n",
      "max       80995.000000\n",
      "Name: Quantity, dtype: float64\n",
      "\n",
      "=== Returns Quantity ===\n",
      "count    10624.000000\n",
      "mean        45.607210\n",
      "std       1092.214216\n",
      "min          1.000000\n",
      "25%          1.000000\n",
      "50%          2.000000\n",
      "75%         10.000000\n",
      "max      80995.000000\n",
      "Name: Quantity, dtype: float64\n"
     ]
    }
   ],
   "execution_count": 18
  },
  {
   "metadata": {
    "ExecuteTime": {
     "end_time": "2025-05-07T16:32:48.201673Z",
     "start_time": "2025-05-07T16:32:47.887598Z"
    }
   },
   "cell_type": "code",
   "source": [
    "import matplotlib.pyplot as plt\n",
    "import seaborn as sns\n",
    "\n",
    "# taking the 99th percentile\n",
    "p99_p = purchases.quantile(0.99)\n",
    "p99_r = returns.quantile(0.99)\n",
    "\n",
    "fig, axes = plt.subplots(1, 2, figsize=(12, 4))\n",
    "\n",
    "# purchases\n",
    "sns.histplot(purchases, bins=30, ax=axes[0])\n",
    "axes[0].set_xlim(0, p99_p)\n",
    "axes[0].set_title(\"Purchases Quantity (top 99%)\")\n",
    "axes[0].set_xlabel(\"Quantity\")\n",
    "axes[0].set_ylabel(\"Count\")\n",
    "\n",
    "# returns\n",
    "sns.histplot(returns, bins=30, ax=axes[1], color='crimson')\n",
    "axes[1].set_xlim(0, p99_r)\n",
    "axes[1].set_title(\"Returns Quantity (top 99%)\")\n",
    "axes[1].set_xlabel(\"Quantity\")\n",
    "axes[1].set_ylabel(\"Count\")\n",
    "\n",
    "plt.tight_layout()\n",
    "plt.show()\n"
   ],
   "id": "ab0a45201d282f9",
   "outputs": [
    {
     "data": {
      "text/plain": [
       "<Figure size 1200x400 with 2 Axes>"
      ],
      "image/png": "[encoded data removed]"
     },
     "metadata": {},
     "output_type": "display_data"
    }
   ],
   "execution_count": 19
  },
  {
   "metadata": {
    "ExecuteTime": {
     "end_time": "2025-05-07T16:32:48.869470Z",
     "start_time": "2025-05-07T16:32:48.219120Z"
    }
   },
   "cell_type": "code",
   "source": [
    "plt.figure(figsize=(6, 4))\n",
    "sns.violinplot(x=df['Quantity'])\n",
    "# cutting the quantiles\n",
    "low, high = df['Quantity'].quantile([0.01, 0.99])\n",
    "plt.xlim(low, high)\n",
    "plt.title(\"Violin Plot of Quantity (1st–99th percentile)\")\n",
    "plt.xlabel(\"Quantity\")\n",
    "plt.tight_layout()\n",
    "plt.show()\n"
   ],
   "id": "e5e8b84bd9163b00",
   "outputs": [
    {
     "data": {
      "text/plain": [
       "<Figure size 600x400 with 1 Axes>"
      ],
      "image/png": "[encoded data removed]"
     },
     "metadata": {},
     "output_type": "display_data"
    }
   ],
   "execution_count": 20
  },
  {
   "metadata": {
    "ExecuteTime": {
     "end_time": "2025-05-07T16:32:48.883689Z",
     "start_time": "2025-05-07T16:32:48.882117Z"
    }
   },
   "cell_type": "code",
   "source": "",
   "id": "808e2430d65c58f7",
   "outputs": [],
   "execution_count": null
  }
 ],
 "metadata": {},
 "nbformat": 4,
 "nbformat_minor": 5
}
